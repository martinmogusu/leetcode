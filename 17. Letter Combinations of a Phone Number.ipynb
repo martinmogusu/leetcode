{
  "cells": [
    {
      "metadata": {},
      "cell_type": "markdown",
      "source": "# 17. Letter Combinations of a Phone Number\n\nhttps://leetcode.com/problems/letter-combinations-of-a-phone-number"
    },
    {
      "metadata": {
        "collapsed": true
      },
      "cell_type": "markdown",
      "source": "Given a string containing digits from `2-9` inclusive, return all possible letter combinations that the number could represent.\n\nA mapping of digit to letters (just like on the telephone buttons) is given below. Note that 1 does not map to any letters."
    },
    {
      "metadata": {},
      "cell_type": "markdown",
      "source": "__Example__:\n\n`Input: \"23\"\nOutput: [\"ad\", \"ae\", \"af\", \"bd\", \"be\", \"bf\", \"cd\", \"ce\", \"cf\"].`"
    },
    {
      "metadata": {
        "trusted": true
      },
      "cell_type": "code",
      "source": "class Solution:\n    def letterCombinations(self, digits):\n        \"\"\"\n        :type digits: str\n        :rtype: List[str]\n        \"\"\"\n        if digits == \"\": return []\n        \n        from itertools import product\n        mapping = {\n            2: \"abc\",\n            3: \"def\",\n            4: \"ghi\",\n            5: \"jkl\",\n            6: \"mno\",\n            7: \"pqrs\",\n            8: \"tuv\",\n            9: \"wxyz\"\n        }\n        \n        lists = [mapping[int(i)] for i in digits]\n        return list(product(*lists))",
      "execution_count": 43,
      "outputs": []
    },
    {
      "metadata": {
        "trusted": true
      },
      "cell_type": "code",
      "source": "sol = Solution()\nnum = \"23\"\nsol.letterCombinations(num)",
      "execution_count": 45,
      "outputs": [
        {
          "output_type": "execute_result",
          "execution_count": 45,
          "data": {
            "text/plain": "[('a', 'd'),\n ('a', 'e'),\n ('a', 'f'),\n ('b', 'd'),\n ('b', 'e'),\n ('b', 'f'),\n ('c', 'd'),\n ('c', 'e'),\n ('c', 'f')]"
          },
          "metadata": {}
        }
      ]
    },
    {
      "metadata": {
        "trusted": true
      },
      "cell_type": "code",
      "source": "",
      "execution_count": null,
      "outputs": []
    }
  ],
  "metadata": {
    "kernelspec": {
      "name": "python36",
      "display_name": "Python 3.6",
      "language": "python"
    },
    "language_info": {
      "mimetype": "text/x-python",
      "nbconvert_exporter": "python",
      "name": "python",
      "pygments_lexer": "ipython3",
      "version": "3.6.6",
      "file_extension": ".py",
      "codemirror_mode": {
        "version": 3,
        "name": "ipython"
      }
    }
  },
  "nbformat": 4,
  "nbformat_minor": 2
}