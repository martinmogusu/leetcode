{
  "cells": [
    {
      "metadata": {
        "collapsed": true
      },
      "cell_type": "markdown",
      "source": "# 8. String to Integer (atoi)\n\nhttps://leetcode.com/problems/string-to-integer-atoi/description/"
    },
    {
      "metadata": {},
      "cell_type": "markdown",
      "source": "Implement `atoi` which converts a string to an integer.\n\nThe function first discards as many whitespace characters as necessary until the first non-whitespace character is found. Then, starting from this character, takes an optional initial plus or minus sign followed by as many numerical digits as possible, and interprets them as a numerical value.\n\nThe string can contain additional characters after those that form the integral number, which are ignored and have no effect on the behavior of this function.\n\nIf the first sequence of non-whitespace characters in str is not a valid integral number, or if no such sequence exists because either str is empty or it contains only whitespace characters, no conversion is performed.\n\nIf no valid conversion could be performed, a zero value is returned.\n\nNote:\n\n - Only the space character `' '` is considered as whitespace character.\n - Assume we are dealing with an environment which could only store integers within the 32-bit signed integer range: [−2<sup>31</sup>,  2<sup>31</sup> − 1]. If the numerical value is out of the range of representable values, INT_MAX (2<sup>31</sup> − 1) or INT_MIN (−2<sup>31</sup>) is returned."
    },
    {
      "metadata": {},
      "cell_type": "markdown",
      "source": "__Example 1:__\n\n```\nInput: \"42\"\nOutput: 42\nExample 2:\n```\n\n__Example 2:__\n\n```\nInput: \"   -42\"\nOutput: -42\nExplanation: The first non-whitespace character is '-', which is the minus sign.\n             Then take as many numerical digits as possible, which gets 42.\n```\n\n__Example 3:__\n\n```\nInput: \"4193 with words\"\nOutput: 4193\nExplanation: Conversion stops at digit '3' as the next character is not a numerical digit.\n```\n\n__Example 4:__\n\n```\nInput: \"words and 987\"\nOutput: 0\nExplanation: The first non-whitespace character is 'w', which is not a numerical \n             digit or a +/- sign. Therefore no valid conversion could be performed.\n```\n\n__Example 5:__\n\n```\nInput: \"-91283472332\"\nOutput: -2147483648\nExplanation: The number \"-91283472332\" is out of the range of a 32-bit signed integer.\n             Thefore INT_MIN (−2<sup>31</sup>) is returned.\n```"
    },
    {
      "metadata": {
        "trusted": true
      },
      "cell_type": "code",
      "source": "class Solution:\n    def myAtoi(self, str):\n        \"\"\"\n        :type str: str\n        :rtype: int\n        \"\"\"\n        sign = 1\n        valid_symbols = ['-', '+']\n        valid_digits = ['-']\n        valid_digits += [i.__str__() for i in range(10)]\n        \n        if str == '':\n            # Empty string\n            return 0\n        \n        if str[0] in valid_symbols:\n            # Check for negative\n            if str[0] == '-':\n                sign = -1\n            # Remove symbol\n            str = str[1:]\n        \n        if str[0] in valid_digits:\n            # Valid integer\n            return str[0]\n        else:\n            # Invalid integer\n            return 0\n        ",
      "execution_count": 12,
      "outputs": []
    },
    {
      "metadata": {
        "trusted": true
      },
      "cell_type": "code",
      "source": "s = \"23\"\nsol = Solution()\nnum = sol.myAtoi(s)\nprint(num)",
      "execution_count": 13,
      "outputs": [
        {
          "output_type": "stream",
          "text": "2\n",
          "name": "stdout"
        }
      ]
    },
    {
      "metadata": {
        "trusted": true
      },
      "cell_type": "code",
      "source": "",
      "execution_count": null,
      "outputs": []
    }
  ],
  "metadata": {
    "kernelspec": {
      "name": "python36",
      "display_name": "Python 3.6",
      "language": "python"
    },
    "language_info": {
      "mimetype": "text/x-python",
      "nbconvert_exporter": "python",
      "name": "python",
      "pygments_lexer": "ipython3",
      "version": "3.6.6",
      "file_extension": ".py",
      "codemirror_mode": {
        "version": 3,
        "name": "ipython"
      }
    }
  },
  "nbformat": 4,
  "nbformat_minor": 2
}