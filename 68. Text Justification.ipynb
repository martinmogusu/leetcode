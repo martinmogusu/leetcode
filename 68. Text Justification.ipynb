{
  "cells": [
    {
      "metadata": {},
      "cell_type": "markdown",
      "source": "# 68. Text Justification\n\nhttps://leetcode.com/problems/text-justification/description/"
    },
    {
      "metadata": {
        "collapsed": true
      },
      "cell_type": "markdown",
      "source": "Given an array of words and a width maxWidth, format the text such that each line has exactly maxWidth characters and is fully (left and right) justified.\n\nYou should pack your words in a greedy approach; that is, pack as many words as you can in each line. Pad extra spaces `' '` when necessary so that each line has exactly maxWidth characters.\n\nExtra spaces between words should be distributed as evenly as possible. If the number of spaces on a line do not divide evenly between words, the empty slots on the left will be assigned more spaces than the slots on the right.\n\nFor the last line of text, it should be left justified and no __extra__ space is inserted between words.\n\nNote:\n\n- A word is defined as a character sequence consisting of non-space characters only.\n- Each word's length is guaranteed to be greater than 0 and not exceed maxWidth.\n- The input array `words` contains at least one word."
    },
    {
      "metadata": {},
      "cell_type": "markdown",
      "source": "__Example 1__\n```\nInput:\nwords = [\"This\", \"is\", \"an\", \"example\", \"of\", \"text\", \"justification.\"]\nmaxWidth = 16\nOutput:\n[\n   \"This    is    an\",\n   \"example  of text\",\n   \"justification.  \"\n]\n```"
    },
    {
      "metadata": {},
      "cell_type": "markdown",
      "source": "__Example 2__\n\n```\nInput:\nwords = [\"What\",\"must\",\"be\",\"acknowledgment\",\"shall\",\"be\"]\nmaxWidth = 16\nOutput:\n[\n  \"What   must   be\",\n  \"acknowledgment  \",\n  \"shall be        \"\n]\nExplanation: Note that the last line is \"shall be    \" instead of \"shall     be\",\n             because the last line must be left-justified instead of fully-justified.\n             Note that the second line is also left-justified becase it contains only one word.\n```"
    },
    {
      "metadata": {},
      "cell_type": "markdown",
      "source": "__Example 3__\n\n```\nInput:\nwords = [\"Science\",\"is\",\"what\",\"we\",\"understand\",\"well\",\"enough\",\"to\",\"explain\",\n         \"to\",\"a\",\"computer.\",\"Art\",\"is\",\"everything\",\"else\",\"we\",\"do\"]\nmaxWidth = 20\nOutput:\n[\n  \"Science  is  what we\",\n  \"understand      well\",\n  \"enough to explain to\",\n  \"a  computer.  Art is\",\n  \"everything  else  we\",\n  \"do                  \"\n]\n```"
    },
    {
      "metadata": {
        "trusted": true
      },
      "cell_type": "code",
      "source": "class Solution:\n    def fullJustify(self, words, maxWidth):\n        \"\"\"\n        :type words: List[str]\n        :type maxWidth: int\n        :rtype: List[str]\n        \"\"\"\n        lines = []\n        line = words[0]\n        \n        for word in words[1:]:\n            space_available = maxWidth - len(line)\n            if space_available > len(word):\n                # Word fits in current line\n                # Add word to current line\n                line += \" \" + word\n            else:\n                # Word does not fit in current line\n                line_words = line.split()\n                gaps = len(line_words) - 1\n                if gaps > 0:\n                    # Gaps found, justify current line\n                    padding = space_available // gaps\n                    extra_padding = space_available % gaps\n                    \n                    # Add padding\n                    line = line.replace(' ', ' ' * (padding + 1))\n                    \n                    # Add extra padding\n                    line_words = line.split(' ')\n                    for i in range(extra_padding):\n                        line_words[i] = line_words[i] + ' '\n                    line = ' '.join(line_words)\n                else:\n                    # No gaps, add right padding\n                    line += ' ' * space_available\n\n                # Add current line to result\n                lines.append(line)\n                \n                # Empty current line\n                # Add word to current line\n                line = word\n        # Special case: last line\n        \n        if lines == [] or lines[-1] != line:\n            # Add right padding to last line\n            space_available = maxWidth - len(line)\n            line = line + ' ' * space_available\n            # Add last line to result\n            lines.append(line)\n            \n        \n        return lines",
      "execution_count": 111,
      "outputs": []
    },
    {
      "metadata": {
        "trusted": true
      },
      "cell_type": "code",
      "source": "words = [\"This\", \"is\", \"an\", \"example\", \"of\", \"text\", \"justification.\"]\n# words = [\"What\",\"must\",\"be\",\"acknowledgment\",\"shall\",\"be\"]\n# words = [\"Science\",\"is\",\"what\",\"we\",\"understand\",\"well\",\"enough\",\"to\",\"explain\",\"to\",\"a\",\"computer.\",\"Art\",\"is\",\"everything\",\"else\",\"we\",\"do\"]\nwords = [\"a\"]\nmaxWidth = 17\n\nsol = Solution()\nresult = sol.fullJustify(words, maxWidth)\nfor r in result:\n    pass\n    print('|' + r.replace(' ', '*') + '|')",
      "execution_count": 113,
      "outputs": [
        {
          "output_type": "stream",
          "text": "|a****************|\n",
          "name": "stdout"
        }
      ]
    },
    {
      "metadata": {
        "trusted": true
      },
      "cell_type": "code",
      "source": "",
      "execution_count": null,
      "outputs": []
    }
  ],
  "metadata": {
    "kernelspec": {
      "name": "python36",
      "display_name": "Python 3.6",
      "language": "python"
    },
    "language_info": {
      "mimetype": "text/x-python",
      "nbconvert_exporter": "python",
      "name": "python",
      "pygments_lexer": "ipython3",
      "version": "3.6.6",
      "file_extension": ".py",
      "codemirror_mode": {
        "version": 3,
        "name": "ipython"
      }
    }
  },
  "nbformat": 4,
  "nbformat_minor": 2
}